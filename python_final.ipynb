{
  "cells": [
    {
      "cell_type": "markdown",
      "metadata": {
        "id": "TQggtlLF-huA"
      },
      "source": [
        "#  2022-2학기 파이썬 프로그래밍 기말고사 \n",
        "\n"
      ]
    },
    {
      "cell_type": "markdown",
      "metadata": {
        "id": "OtG7xx1d_S9S"
      },
      "source": [
        "기말 고사 유의 사항\n",
        "\n",
        "1. 문제의 답안을 함수로 작성하되, 반드시 함수 이름은 문제에서 제시하는 함수명으로 할것 (함수명이 다르면 점수 획득 불가능)\n",
        "1. 각 문제의 답안은 답안 작성 셀에서 작성할 것\n",
        "1. 모든 문제는 함수의 매개변수 입력을 통해 데이터를 전달 받고, 결과를 반환하는 함수를 정의하는 것임 (주의: input()는 키보드 입력이며, 함수 입력이 아님, print()는 모니터에 출력하는 함수이며, 함수 반환이 아님)\n",
        "1. 함수의 입력과 반환 시 데이터 타입도 반드시 지킬것 (예: 문자열 반환이라는 문제에서는 반드시 문자열을 반환 해야함)\n",
        "1. 답안 제출은 함수가 정의된 부분만 제출하고, 나머지 코드는 지우고 제출할 것, 답안 제출시 input() 함수나 , print() 함수가 있으면 안됨\n",
        "1. 코드 작성이 끝난 파일은 개별적으로 함수를 호출해서 검수를 거쳐 정답이 맞는지 확인할 것\n",
        "1. 작성된 답안은 colab의 상단 메뉴의 파일--> 다운로드 --> .py 로 다운 받아 학교 LMS 에 제출할 것  ( .py 다운로드시 경고창이 뜨지만, 계속 버튼을 눌러 다운 할것)\n",
        "1. .py 가 학교 LMS 에 올라가지 않을경우 ZIP으로 압축하여 업로드 가능\n",
        "1. 파일의 이름은 자신의 학번.py      예) 학번이 2021111000 일 경우,     2021111000.py 파일을 제출\n",
        "1. 코드는 자동 채점이 되며, 각 문제당 부분 점수는 없음\n",
        "1. 시험지 및 답안을 절대 유출 금지(타인 및 개인 블로그 포함)하며, 유출될 경우 불이익을 감수할 것\n",
        "1. 제출 기한을 넘겨 답안을 제출하는 것은 불가"
      ]
    },
    {
      "cell_type": "markdown",
      "metadata": {
        "id": "G8s27iEOeMOd"
      },
      "source": [
        "## 문제 1) - 5점"
      ]
    },
    {
      "cell_type": "markdown",
      "metadata": {
        "id": "lhpvyiXLeu-1"
      },
      "source": [
        "\n",
        "<strong>* 하나의 정수를 함수의 입력으로 받아, 이 정수가 홀수 인지 짝수 인지를 판별하여 짝수이면 \"짝\", 홀수 이면 \"홀\"이라는 문자열을 반환하는 함수를 작성하시오</strong>\n",
        "\n",
        "\n",
        "* 예1) \n",
        " * 입력(정수) : 2 <br>\n",
        " * 반환(문자열) : \"짝\"\n",
        "\n",
        " * 함수 입력 \n",
        "    ```\n",
        "    exam1(2)\n",
        "\n",
        "    ```\n",
        " * 함수 반환\n",
        "    ```\n",
        "    \"짝\"\n",
        "\n",
        "    ```\n",
        "\n",
        "\n",
        "\n",
        "* 예2)\n",
        " * 입력(정수): 3 <br>\n",
        " * 반환(문자열): \"홀\"\n",
        "\n",
        " * 함수 입력\n",
        "    ```\n",
        "    exam1(3)\n",
        "    ```\n",
        " * 함수 반환\n",
        "    ```\n",
        "    \"홀\"\n",
        "\n",
        "    ```\n",
        "\n",
        "\n",
        "\n",
        "* 함수 이름: exam1<br>      (반드시 함수 이름을 exam1로 작성할것!!)\n",
        "\n",
        "* 함수 작성 가이드 <br>\n",
        "\n",
        "\n",
        "\n",
        "```\n",
        "def exam1(a):\n",
        "    b = a가 짝수라면 \"짝\"이라는 문자열을 대입\n",
        "    return b\n",
        "```"
      ]
    },
    {
      "cell_type": "code",
      "execution_count": 6,
      "metadata": {
        "id": "cb4AtnIZIGyA",
        "colab": {
          "base_uri": "https://localhost:8080/",
          "height": 35
        },
        "outputId": "197bd224-1090-4230-e6a3-488abd57164e"
      },
      "outputs": [
        {
          "output_type": "execute_result",
          "data": {
            "text/plain": [
              "'홀'"
            ],
            "application/vnd.google.colaboratory.intrinsic+json": {
              "type": "string"
            }
          },
          "metadata": {},
          "execution_count": 6
        }
      ],
      "source": [
        "###### 1번 문제 답안 작성 셀 ######\n",
        "def exam1(a):\n",
        "    if(a % 2 == 0):\n",
        "        b=(\"짝\")\n",
        "    else:\n",
        "        b=(\"홀\")\n",
        "    return b\n",
        "\n",
        "exam1(7)\n"
      ]
    },
    {
      "cell_type": "markdown",
      "metadata": {
        "id": "X1GukuNA-vPR"
      },
      "source": [
        "## 문제 2) - 10점"
      ]
    },
    {
      "cell_type": "markdown",
      "metadata": {
        "id": "kK4fr_Gm5oCl"
      },
      "source": [
        "<strong> * 하나의 리스트를 함수의 입력으로 넣으면, 리스트안의 중복을 제거한 다음 중복 제거된 리스트를 반환하는 함수를 작성하시오. (단, 데이터 순서를 유지할 것)</strong>\n",
        "\n",
        "* 예1) \n",
        "   * 입력(리스트) : [1,2,1,1,1] <br>\n",
        "   * 반환(리스트) : [1,2]\n",
        "\n",
        "   * 함수 입력 \n",
        "       ```\n",
        "       exam2([1,2,1,1,1])\n",
        "\n",
        "       ```\n",
        "   * 함수 반환\n",
        "       ```\n",
        "       [1,2]\n",
        "\n",
        "       ```\n",
        "\n",
        "* 예2)\n",
        "\n",
        " * 입력(리스트): [3,3,4,5,3] <br>\n",
        " * 반환(리스트): [3,4,5]\n",
        "\n",
        " * 함수 입력 \n",
        "    ```\n",
        "    exam2([3,3,4,5])\n",
        "\n",
        "    ```\n",
        " * 함수 반환\n",
        "   ```\n",
        "   [3,4,5]\n",
        "\n",
        "   ```\n",
        "\n",
        "\n",
        "\n",
        "* 함수 이름: exam2 <br>      (반드시 함수 이름을 exam2로 작성할것!!)\n",
        "\n",
        "* 함수 작성 가이드 <br>\n",
        "\n",
        "\n",
        "\n",
        "```\n",
        "def exam2(a):\n",
        "    b = a리스트의 중복제거한 리스트\n",
        "    return b\n",
        "```\n",
        "\n",
        "\n",
        "\n"
      ]
    },
    {
      "cell_type": "code",
      "execution_count": 7,
      "metadata": {
        "id": "kX9xY63-5j5p",
        "colab": {
          "base_uri": "https://localhost:8080/"
        },
        "outputId": "c76fc71a-9f69-46e0-a92a-7841a84c5255"
      },
      "outputs": [
        {
          "output_type": "execute_result",
          "data": {
            "text/plain": [
              "[1, 5, 10, 19, 22]"
            ]
          },
          "metadata": {},
          "execution_count": 7
        }
      ],
      "source": [
        "###### 2번 문제 답안 작성 셀 ######\n",
        "def exam2(a):\n",
        "    b= list(set(a))\n",
        "    return b\n",
        "\n",
        "exam2([10, 22, 19, 22, 1, 10, 5])\n",
        "\n"
      ]
    },
    {
      "cell_type": "markdown",
      "metadata": {
        "id": "EnqoaId9BzIm"
      },
      "source": [
        "## 문제 3) - 10점"
      ]
    },
    {
      "cell_type": "markdown",
      "metadata": {
        "id": "smtRGTyPBqxk"
      },
      "source": [
        "<strong> 다음 표에서 나타내는 아이스크림 중, 2가지를 선택하여 함수의 입력으로 넣으면, 아이스크림의 총 가격이 정수로 반환하는 함수를 작성하시오.</strong> (단, 아이스크림의 순서는 상관없음)\n",
        "\n",
        "|아이스크림|가격|\n",
        "|---|---|\n",
        "|누가바|1200|\n",
        "|쌍쌍바|1000|\n",
        "|돼지바|500|\n",
        "|바밤바|700|\n",
        "|보석바|900|\n",
        "\n",
        "* 예1)\n",
        "\n",
        "  * 입력(문자열, 문자열) : 누가바, 쌍쌍바\n",
        "  * 반환(정수) : 2200\n",
        "\n",
        "  * 함수 입력 \n",
        "    ```   \n",
        "    exam3(\"누가바\", \"쌍쌍바\")\n",
        "    ```\n",
        "  * 함수 반환\n",
        "    ```\n",
        "    2200\n",
        "    ```\n",
        "\n",
        "* 예2)\n",
        "\n",
        "  * 입력(문자열, 문자열): 돼지바, 바밤바\n",
        "  * 반환(정수): 1200\n",
        "\n",
        "\n",
        "  * 함수 입력 \n",
        "    ```\n",
        "    exam3(\"돼지바\", \"바밤바\")\n",
        "    ```\n",
        "\n",
        "  * 함수 반환\n",
        "    ```\n",
        "    1200\n",
        "    ```\n",
        "\n",
        "* 함수 이름: exam3\n",
        "(반드시 함수 이름을 exam3로 작성할것!!)\n",
        "\n",
        "* 함수 작성 가이드\n",
        "\n",
        "\n",
        "\n",
        "```\n",
        "def exam3(a,b):\n",
        "    c = a와 b 가격의 총합\n",
        "    return c\n",
        "```\n",
        "\n"
      ]
    },
    {
      "cell_type": "code",
      "execution_count": 8,
      "metadata": {
        "id": "FS8nRvcNG8QR",
        "colab": {
          "base_uri": "https://localhost:8080/"
        },
        "outputId": "c99a0274-209a-4d1d-e8ad-09aa1482d7f8"
      },
      "outputs": [
        {
          "output_type": "execute_result",
          "data": {
            "text/plain": [
              "1900"
            ]
          },
          "metadata": {},
          "execution_count": 8
        }
      ],
      "source": [
        "###### 3번 문제 답안 작성 셀 ######\n",
        "\n",
        "def exam3(a,b):\n",
        "    inventory = {\"누가바\": [1200], \n",
        "                 \"쌍쌍바\": [1000], \n",
        "                 \"돼지바\": [500],\n",
        "                 \"바밤바\": [700],\n",
        "                 \"보석바\": [900]}\n",
        "\n",
        "    a= inventory[a][0]\n",
        "    b= inventory[b][0]\n",
        "    c= a+b\n",
        "    return c\n",
        "\n",
        "exam3(\"쌍쌍바\", \"보석바\")"
      ]
    },
    {
      "cell_type": "markdown",
      "metadata": {
        "id": "8uQNXmPWHHGN"
      },
      "source": [
        "## 문제 4) - 10점"
      ]
    },
    {
      "cell_type": "markdown",
      "metadata": {
        "id": "PLsesGlrHyvc"
      },
      "source": [
        "<strong> 1부터 10까지의 정수 중 하나를 함수의 입력으로 넣으면, 이 숫자에 해당하는 영문자열을 반환하는 함수를 작성하시오.  </strong>\n",
        "\n",
        "\n",
        "\n",
        "* 예1)<br>\n",
        "\n",
        "    * 입력(정수) : 1<br>\n",
        "    * 반환(문자열) : one<br>\n",
        "\n",
        "    * 함수 입력 \n",
        "        ```\n",
        "        exam4(1)\n",
        "\n",
        "        ```\n",
        "\n",
        "    * 함수 반환\n",
        "\n",
        "        ```\n",
        "        one\n",
        "\n",
        "        ```\n",
        "\n",
        "* 예2)<br>\n",
        "\n",
        "    * 입력(정수) : 7<br>\n",
        "    * 반환(문자열) : seven<br>\n",
        "\n",
        "    * 함수 입력 \n",
        "        ```\n",
        "        exam4(7)\n",
        "\n",
        "        ```\n",
        "    \n",
        "    * 함수 반환\n",
        "        ```\n",
        "        seven\n",
        "        ```\n",
        "\n",
        "\n",
        "* 함수 이름: exam4  <br>\n",
        "(반드시 함수 이름을 exam4로 작성할것!!)<br>\n",
        "\n",
        "* 함수 작성 가이드\n",
        "\n",
        "```\n",
        "def exam4(a):\n",
        "    b = a의 영문자열\n",
        "    return b\n",
        "```"
      ]
    },
    {
      "cell_type": "code",
      "execution_count": 13,
      "metadata": {
        "id": "71qGTeWEW14L",
        "colab": {
          "base_uri": "https://localhost:8080/",
          "height": 35
        },
        "outputId": "2c98e53e-ae7e-49e9-890d-33b7c2c0fe90"
      },
      "outputs": [
        {
          "output_type": "execute_result",
          "data": {
            "text/plain": [
              "'three'"
            ],
            "application/vnd.google.colaboratory.intrinsic+json": {
              "type": "string"
            }
          },
          "metadata": {},
          "execution_count": 13
        }
      ],
      "source": [
        "###### 4번 문제 답안 작성 셀 ######\n",
        "\n",
        "def exam4(a):\n",
        "    list= [\"one\", \"two\", \"three\", \"four\", \"five\", \"six\", \"seven\", \"eight\", \"nine\", \"ten\"]\n",
        "    a= a-1\n",
        "    b = list[a]\n",
        "    return b\n",
        "\n",
        "exam4(3)"
      ]
    },
    {
      "cell_type": "markdown",
      "metadata": {
        "id": "ApVnFiekZWbv"
      },
      "source": [
        "## 문제5) - 5점"
      ]
    },
    {
      "cell_type": "markdown",
      "metadata": {
        "id": "AOx7f5T9ZzH8"
      },
      "source": [
        "<strong> 2002년도부터 2100년도까지의 정수를 함수의 입력으로 넣으면, 월드컵 개최의 해인지 판별하여 개최의 해라면 True, 그렇지 않다면 False를 반환하는 함수를 작성하시오.  </strong><br>\n",
        "\n",
        "(단, 2002년도는 월드컵 개최의 해 이며, 4년마다 한번씩 월드컵이 개최되어 이후 2006, 2010..... 년도 등이 월드컵 개최의 해이다.)\n",
        "\n",
        "\n",
        "\n",
        "* 예1)<br>\n",
        "\n",
        "  * 입력(정수) : 2002<br>\n",
        "  * 반환(불) : True<br>\n",
        "\n",
        "  * 함수 입력 \n",
        "      ```\n",
        "      exam5(2002)\n",
        "    \n",
        "      ```\n",
        "  * 함수 반환 \n",
        "    \n",
        "     ```\n",
        "    True\n",
        "     ```\n",
        "<br>\n",
        "\n",
        "* 예2)\n",
        "\n",
        "  * 입력(정수) : 2003<br>\n",
        "  * 반환(불) : False<br>\n",
        "  * 함수 입력 \n",
        "      ```\n",
        "      exam5(2003)\n",
        "\n",
        "      ```\n",
        "\n",
        "  * 함수 반환\n",
        "\n",
        "      ```\n",
        "      False\n",
        "      ```\n",
        "\n",
        "\n",
        "\n",
        "\n",
        "* 함수 이름: exam5\n",
        "(반드시 함수 이름을 exam5로 작성할것!!)\n",
        "\n",
        "* 함수 작성 가이드\n",
        "\n",
        "\n",
        "```\n",
        "\n",
        "def exam5(a):\n",
        "    b = a 가 월드컵 개최의 해라면 True(bool). 그렇지 않다면 False(bool)을 대입\n",
        "    return b\n",
        "```\n",
        "\n"
      ]
    },
    {
      "cell_type": "code",
      "execution_count": 172,
      "metadata": {
        "id": "N1DpVBJmIs_L",
        "colab": {
          "base_uri": "https://localhost:8080/",
          "height": 35
        },
        "outputId": "39d3ed46-6e11-4f51-db64-02303cf92a5c"
      },
      "outputs": [
        {
          "output_type": "execute_result",
          "data": {
            "text/plain": [
              "'True'"
            ],
            "application/vnd.google.colaboratory.intrinsic+json": {
              "type": "string"
            }
          },
          "metadata": {},
          "execution_count": 172
        }
      ],
      "source": [
        "###### 5번 문제 답안 작성 셀 ######\n",
        "def exam5(a):\n",
        "    if (2002<=a<=2100 and a%4==0):\n",
        "        b= (\"True\")\n",
        "    else:\n",
        "        b= (\"False\")\n",
        "    return b\n",
        "    \n",
        "exam5(2004)"
      ]
    },
    {
      "cell_type": "markdown",
      "metadata": {
        "id": "R9k6o23RMER4"
      },
      "source": [
        "## 문제 6) - 5점"
      ]
    },
    {
      "cell_type": "markdown",
      "metadata": {
        "id": "IQWD9SCNhgHP"
      },
      "source": [
        "<strong>웹사이트 주소를 문자열로 합수의 입력으로 넣으면 회사 이름을 반환하는 함수를 작성하시오.</strong><br>\n",
        "\n",
        "\n",
        "웹 사이트 주소 형식은 아래와 같고, 모든 입력은 아래의 형식을 따른다.\n",
        "\n",
        "```\n",
        "www.회사명.xxx\n",
        "```\n",
        "\n",
        "\n",
        "\n",
        "\n",
        "|웹사이트 주소 |회사 이름|\n",
        "|---|---|\n",
        "|www.naver.com|naver|\n",
        "|www.google.com|google|\n",
        "|www.amazon.com|amazon|\n",
        "|www.cuk.edu|cuk|\n",
        "\n",
        "\n",
        "\n",
        "* 예1)<br>\n",
        "\n",
        "  * 입력(문자열) : www.yahoo.com<br>\n",
        "  * 반환(문자열) : yahoo<br>\n",
        "\n",
        "  * 함수 입력 \n",
        "      ```\n",
        "      exam6(\"www.yahoo.com\")\n",
        "    \n",
        "      ```\n",
        "  * 함수 반환 \n",
        "    \n",
        "     ```\n",
        "     yahoo\n",
        "     ```\n",
        "\n",
        "* 예2)\n",
        "\n",
        "    * 입력(문자열) : \"www.cuk.edu\"<br>\n",
        "    * 반환(문자열) : cuk<br>\n",
        "\n",
        "    * 함수 입력 \n",
        "        ```\n",
        "        exam6(\"www.cuk.edu\")\n",
        "        \n",
        "        ```\n",
        "    * 함수 반환 \n",
        "        \n",
        "        ```\n",
        "        cuk\n",
        "        ```\n",
        "\n",
        "\n",
        "* 함수 이름: exam6\n",
        "(반드시 함수 이름을 exam6로 작성할것!!)\n",
        "\n",
        "* 함수 작성 힌트\n",
        "\n",
        "\n",
        "```\n",
        "\n",
        "def exam6(a):\n",
        "    b = a 웹사이트 주소에서 나타내는 회사명\n",
        "    return b\n",
        "```"
      ]
    },
    {
      "cell_type": "code",
      "execution_count": 63,
      "metadata": {
        "id": "BUjtiJV_iikS",
        "colab": {
          "base_uri": "https://localhost:8080/",
          "height": 35
        },
        "outputId": "bfdcea8d-b5d0-44a4-da05-4487ae2849fd"
      },
      "outputs": [
        {
          "output_type": "execute_result",
          "data": {
            "text/plain": [
              "'naver'"
            ],
            "application/vnd.google.colaboratory.intrinsic+json": {
              "type": "string"
            }
          },
          "metadata": {},
          "execution_count": 63
        }
      ],
      "source": [
        "###### 6번 문제 답안 작성 셀 ######\n",
        "\n",
        "def exam6(a):\n",
        "    b = a.split('.')\n",
        "    b = (b[-2])\n",
        "    return b\n",
        "\n",
        "\n",
        "exam6(\"www.naver.com\")"
      ]
    },
    {
      "cell_type": "markdown",
      "metadata": {
        "id": "4-41iqJ5W1r1"
      },
      "source": [
        "## 문제 7) - 15점"
      ]
    },
    {
      "cell_type": "markdown",
      "metadata": {
        "id": "kqoNGOnfXd1T"
      },
      "source": [
        "\n",
        "<strong>하나의 문자열을 함수의 입력으로 받아, 이 문자열이 오직 '0'과 '1'로 만 이루어진 문자열이면 True를 반환하고, 그외 다른 문자열이 포함되어 있을 경우 False를 반환하는 함수를 작성하시오. </strong><br>\n",
        "\n",
        "\n",
        "\n",
        "* 예1)<br>\n",
        "\n",
        "  * 입력(문자열) : \"101010101010\"<br>\n",
        "  * 반환(불) : True<br>\n",
        "  \n",
        "  * 함수 입력 \n",
        "      ```\n",
        "      exam7(\"101010101010\")\n",
        "    \n",
        "      ```\n",
        "  * 함수 반환 \n",
        "    \n",
        "     ```\n",
        "     True\n",
        "     ```\n",
        "\n",
        "* 예2)<br>\n",
        "\n",
        "    * 입력(문자열) : \"11A02011\"<br>\n",
        "    * 반환(불) : False<br>\n",
        "\n",
        "    * 함수 입력 \n",
        "        ```\n",
        "        exam7(\"11A02011\")\n",
        "        \n",
        "        ```\n",
        "    * 함수 반환 \n",
        "        \n",
        "        ```\n",
        "        False\n",
        "        ```\n",
        "\n",
        "* 함수 이름: exam7\n",
        "(반드시 함수 이름을 exam7로 작성할것!!)\n",
        "\n",
        "* 함수 작성 가이드\n",
        "\n",
        "\n",
        "```\n",
        "\n",
        "def exam7(a):\n",
        "    b = a 문자열이 '0'과 '1'로만 되어 있으면 True, 그외 다른 문자를 포함하면 False\n",
        "    return b\n",
        "```"
      ]
    },
    {
      "cell_type": "code",
      "execution_count": 165,
      "metadata": {
        "id": "4pdCE84Fe9Ce",
        "colab": {
          "base_uri": "https://localhost:8080/",
          "height": 35
        },
        "outputId": "f8e8eeed-bd7e-46cf-87a6-c11a2adb33e3"
      },
      "outputs": [
        {
          "output_type": "execute_result",
          "data": {
            "text/plain": [
              "'True'"
            ],
            "application/vnd.google.colaboratory.intrinsic+json": {
              "type": "string"
            }
          },
          "metadata": {},
          "execution_count": 165
        }
      ],
      "source": [
        "###### 7번 문제 답안 작성 셀 ######\n",
        "def exam7(a):\n",
        "    b = len(a)\n",
        "    c = a.count(\"0\")\n",
        "    d = a.count(\"1\")\n",
        "    if(b = =c + d):\n",
        "        e= (\"True\")\n",
        "    else:\n",
        "        e=(\"False\")\n",
        "    return e\n",
        "\n",
        "exam7(\"01001\")"
      ]
    },
    {
      "cell_type": "markdown",
      "metadata": {
        "id": "6gmPtFuZeqIj"
      },
      "source": [
        "## 문제 8 - 10점"
      ]
    },
    {
      "cell_type": "markdown",
      "metadata": {
        "id": "mNSyCPn-fGBy"
      },
      "source": [
        "<strong>정수로 구성된 하나의 리스트를 함수의 입력으로 받으면, 리스트 안의 요소들 중 가장 작은 값을 반환하는 함수를 작성하시오. </strong><br>\n",
        "\n",
        "\n",
        "* 예1)<br>\n",
        "\n",
        "  * 입력(리스트) : [9, 4, 3, 2, 1]<br>\n",
        "  * 반환(정수) : 1<br>\n",
        "\n",
        "  * 함수 입력 \n",
        "      ```\n",
        "      exam8([9, 4, 3, 2, 1])\n",
        "    \n",
        "      ```\n",
        "  * 함수 반환 \n",
        "    \n",
        "     ```\n",
        "     1\n",
        "     ```\n",
        "\n",
        "* 예2)<br>\n",
        "\n",
        "    * 입력(리스트) : [-2, 3, -4, -5, -7]<br> \n",
        "    * 반환(정수) : -7 <br>\n",
        "\n",
        "    * 함수 입력 \n",
        "        ```\n",
        "        exam8([-2, 3, -4, -5, -7])\n",
        "        \n",
        "        ```\n",
        "    * 함수 반환 \n",
        "        \n",
        "        ```\n",
        "        -7\n",
        "        ```\n",
        "\n",
        "* 함수 이름: exam8\n",
        "(반드시 함수 이름을 exam8로 작성할것!!)\n",
        "\n",
        "* 함수 작성 가이드\n",
        "\n",
        "\n",
        "```\n",
        "\n",
        "def exam8(a):\n",
        "    b = a의 리스트 중 가장 작은 정수\n",
        "    return b\n",
        "```"
      ]
    },
    {
      "cell_type": "code",
      "execution_count": 61,
      "metadata": {
        "id": "tFpu6fEehCG6",
        "colab": {
          "base_uri": "https://localhost:8080/"
        },
        "outputId": "685d4886-43b1-40ea-a31d-4ce6ddf0e564"
      },
      "outputs": [
        {
          "output_type": "execute_result",
          "data": {
            "text/plain": [
              "-5"
            ]
          },
          "metadata": {},
          "execution_count": 61
        }
      ],
      "source": [
        "###### 8번 문제 답안 작성 셀 ######\n",
        "def exam8(a):\n",
        "    b= min(a)\n",
        "    return b\n",
        "\n",
        "exam8([9,4,3,25,26,1,-5])"
      ]
    },
    {
      "cell_type": "markdown",
      "metadata": {
        "id": "_6nwI88OhsBI"
      },
      "source": [
        "## 문제 9) - 15점"
      ]
    },
    {
      "cell_type": "markdown",
      "metadata": {
        "id": "pxTuZRhohj7h"
      },
      "source": [
        "휴대전화 번호를 문자열 형태로 함수의 매개변수로 입력 받으면, 휴대전화 중간 4개의 숫자를 ####으로 바꾸어 반환하는 함수를 작성하시오.\n",
        "\n",
        "\n",
        "\n",
        "* 예1) <br>\n",
        "\n",
        "    * 입력(문자열) : \"010-3222-1234\"<br>\n",
        "    * 반환(문자열) : \"010-####-1234\"<br>\n",
        "\n",
        "\n",
        "    * 함수 입력 \n",
        "       ```\n",
        "       exam9(\"010-3222-1234\")\n",
        "       ```\n",
        "\n",
        "    * 함수 반환 \n",
        "        ```\n",
        "        \"010-####-1234\"\n",
        "        ```\n",
        "\n",
        "* 예2)<br>\n",
        "\n",
        "    * 입력(문자열) : \"010-1221-0984\"<br>\n",
        "    * 반환(문자열) : \"010-####-0984\"<br>\n",
        "\n",
        "    * 함수 입력 \n",
        "        ```\n",
        "        exam9(\"010-1221-0984\")\n",
        "            \n",
        "        ```\n",
        "    * 함수 반환 \n",
        "         \n",
        "        ```\n",
        "        \"010-####-0984\"\n",
        "        ```\n",
        " \n",
        "* 함수 이름: exam9 (반드시 함수 이름을 exam9로 작성할것!!)<br>\n",
        "\n",
        "함수 작성 가이드\n",
        "\n",
        "```\n",
        "\n",
        "def exam9(a):\n",
        "    b = a 문자열의 중간 4개의 숫자를 ####로 마스킹한 문자열\n",
        "    return b\n",
        "```"
      ]
    },
    {
      "cell_type": "code",
      "execution_count": 127,
      "metadata": {
        "id": "sLhBSwBMleAX",
        "colab": {
          "base_uri": "https://localhost:8080/",
          "height": 35
        },
        "outputId": "75a46e37-1716-470d-b428-0108e37afe35"
      },
      "outputs": [
        {
          "output_type": "execute_result",
          "data": {
            "text/plain": [
              "'010-####-3456'"
            ],
            "application/vnd.google.colaboratory.intrinsic+json": {
              "type": "string"
            }
          },
          "metadata": {},
          "execution_count": 127
        }
      ],
      "source": [
        "###### 9번 문제 답안 작성 셀 ######\n",
        "def exam9(a):\n",
        "    a = a.split('-')\n",
        "    b = (a[-3])\n",
        "    c = (a[-2])\n",
        "    d = (a[-1])\n",
        "    e = c.replace(c,\"####\")\n",
        "    f = b +\"-\"+ e +\"-\"+ c\n",
        "    return f\n",
        "\n",
        "\n",
        "exam9(\"010-3456-7899\")\n"
      ]
    },
    {
      "cell_type": "markdown",
      "metadata": {
        "id": "y8wpZYPsli87"
      },
      "source": [
        "## 문제 10) - 15점"
      ]
    },
    {
      "cell_type": "markdown",
      "metadata": {
        "id": "-q7Zvh2clp73"
      },
      "source": [
        "<strong> 선거 투표지를 리스트에 담아 놓는 자료가 있다. 이 리스트를 함수의 입력으로 넣으면, 최종 다득표자의 이름을 문자열로 반환하는 함수를 작성하시오. (단, 동점 득표가 없다고 가정한다.) </strong> \n",
        "\n",
        "\n",
        "\n",
        "* 예1) <br>\n",
        "\n",
        "   * 입력(리스트) : [\"John\", \"Joseph\", \"Joseph\", \"Joseph\", \"Peter\", \"Oliver\",\"Nicholas\"] <br>\n",
        "   * 반환(문자열) : \"Joseph\" <br>\n",
        "\n",
        "\n",
        "   * 함수 입력 \n",
        "      ```\n",
        "      exam10([\"John\", \"Joseph\", \"Joseph\", \"Joseph\", \"Peter\", \"Oliver\",\"Nicholas\"])\n",
        "      ```\n",
        "        \n",
        "   * 함수 반환 \n",
        "      ```\n",
        "      \"Joseph\"\n",
        "      ```\n",
        "\n",
        "* 예2)<br>\n",
        "\n",
        "    * 입력(리스트) : [\"Kim\", \"Kim\", \"Park\"] <br>\n",
        "    * 반환(문자열) : \"Kim\" <br>\n",
        "\n",
        "    * 함수 입력 \n",
        "        ```\n",
        "        exam10([\"Kim\", \"Kim\", \"Park\"])                 \n",
        "        ```\n",
        "        \n",
        "    * 함수 반환 \n",
        "            \n",
        "        ```\n",
        "        \"Kim\"\n",
        "        ```\n",
        "\n",
        "\n",
        "\n",
        "* 함수 이름: exam10 (반드시 함수 이름을 exam10로 작성할것!!)<br>\n",
        "\n",
        "함수 작성 가이드\n",
        "\n",
        "```\n",
        "\n",
        "def exam10(a):\n",
        "    b = a 리스트에서 가장 많은 문자열\n",
        "    return b\n",
        "```"
      ]
    },
    {
      "cell_type": "code",
      "execution_count": 145,
      "metadata": {
        "id": "yMcdEi7LlpIF",
        "colab": {
          "base_uri": "https://localhost:8080/",
          "height": 35
        },
        "outputId": "8908abcb-b9fe-4a31-f3b8-55d661dce739"
      },
      "outputs": [
        {
          "output_type": "execute_result",
          "data": {
            "text/plain": [
              "'Joseph'"
            ],
            "application/vnd.google.colaboratory.intrinsic+json": {
              "type": "string"
            }
          },
          "metadata": {},
          "execution_count": 145
        }
      ],
      "source": [
        "###### 10번 문제 답안 작성 셀######\n",
        "def exam10(a):\n",
        "    b= max(a, key = a.count)\n",
        "    return b\n",
        "\n",
        "exam10([\"John\", \"Joseph\", \"Joseph\", \"Joseph\", \"Peter\", \"Oliver\",\"Nicholas\"])"
      ]
    },
    {
      "cell_type": "code",
      "source": [],
      "metadata": {
        "id": "XacEcMu5Kh2I"
      },
      "execution_count": null,
      "outputs": []
    }
  ],
  "metadata": {
    "colab": {
      "name": "python-final.ipynb",
      "provenance": []
    },
    "kernelspec": {
      "display_name": "Python 3.10.5 64-bit",
      "language": "python",
      "name": "python3"
    },
    "language_info": {
      "name": "python",
      "version": "3.10.5"
    },
    "vscode": {
      "interpreter": {
        "hash": "818e61c07054e900cca3fb47f365ca8e4faed981f62945c80b398dee828b08c1"
      }
    }
  },
  "nbformat": 4,
  "nbformat_minor": 0
}